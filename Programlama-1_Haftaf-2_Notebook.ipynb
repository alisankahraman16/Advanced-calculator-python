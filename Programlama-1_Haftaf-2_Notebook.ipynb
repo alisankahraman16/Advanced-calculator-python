{
 "cells": [
  {
   "cell_type": "markdown",
   "metadata": {
    "slideshow": {
     "slide_type": "slide"
    }
   },
   "source": [
    "# Jupyter Özelleştirme ve Kullanım ipuçları \n",
    "\n",
    "(https://www.kdnuggets.com/2020/01/optimize-jupyter-notebook.html)"
   ]
  },
  {
   "cell_type": "code",
   "execution_count": null,
   "metadata": {},
   "outputs": [],
   "source": [
    "! pip install jupyter_contrib_nbextensions\n",
    "! jupyter contrib nbextension install --system"
   ]
  },
  {
   "cell_type": "code",
   "execution_count": 1,
   "metadata": {},
   "outputs": [
    {
     "name": "stdout",
     "output_type": "stream",
     "text": [
      "Collecting RISE\n",
      "  Using cached rise-5.7.1-py2.py3-none-any.whl (4.3 MB)\n",
      "Requirement already satisfied: notebook>=6.0 in c:\\users\\patron\\anaconda3\\envs\\derinogrenmedersi\\lib\\site-packages (from RISE) (6.2.0)\n",
      "Requirement already satisfied: jupyter-client>=5.3.4 in c:\\users\\patron\\anaconda3\\envs\\derinogrenmedersi\\lib\\site-packages (from notebook>=6.0->RISE) (6.1.7)\n",
      "Requirement already satisfied: jupyter-core>=4.6.1 in c:\\users\\patron\\anaconda3\\envs\\derinogrenmedersi\\lib\\site-packages (from notebook>=6.0->RISE) (4.7.1)\n",
      "Requirement already satisfied: traitlets>=4.2.1 in c:\\users\\patron\\anaconda3\\envs\\derinogrenmedersi\\lib\\site-packages (from notebook>=6.0->RISE) (5.0.5)\n",
      "Requirement already satisfied: tornado>=6.1 in c:\\users\\patron\\anaconda3\\envs\\derinogrenmedersi\\lib\\site-packages (from notebook>=6.0->RISE) (6.1)\n",
      "Requirement already satisfied: nbconvert in c:\\users\\patron\\anaconda3\\envs\\derinogrenmedersi\\lib\\site-packages (from notebook>=6.0->RISE) (6.0.7)\n",
      "Requirement already satisfied: ipykernel in c:\\users\\patron\\anaconda3\\envs\\derinogrenmedersi\\lib\\site-packages (from notebook>=6.0->RISE) (5.3.4)\n",
      "Requirement already satisfied: nbformat in c:\\users\\patron\\anaconda3\\envs\\derinogrenmedersi\\lib\\site-packages (from notebook>=6.0->RISE) (5.1.2)\n",
      "Requirement already satisfied: prometheus-client in c:\\users\\patron\\anaconda3\\envs\\derinogrenmedersi\\lib\\site-packages (from notebook>=6.0->RISE) (0.9.0)\n",
      "Requirement already satisfied: terminado>=0.8.3 in c:\\users\\patron\\anaconda3\\envs\\derinogrenmedersi\\lib\\site-packages (from notebook>=6.0->RISE) (0.9.2)\n",
      "Requirement already satisfied: Send2Trash>=1.5.0 in c:\\users\\patron\\anaconda3\\envs\\derinogrenmedersi\\lib\\site-packages (from notebook>=6.0->RISE) (1.5.0)\n",
      "Requirement already satisfied: argon2-cffi in c:\\users\\patron\\anaconda3\\envs\\derinogrenmedersi\\lib\\site-packages (from notebook>=6.0->RISE) (20.1.0)\n",
      "Requirement already satisfied: pyzmq>=17 in c:\\users\\patron\\anaconda3\\envs\\derinogrenmedersi\\lib\\site-packages (from notebook>=6.0->RISE) (20.0.0)\n",
      "Requirement already satisfied: jinja2 in c:\\users\\patron\\anaconda3\\envs\\derinogrenmedersi\\lib\\site-packages (from notebook>=6.0->RISE) (2.11.3)\n",
      "Requirement already satisfied: ipython-genutils in c:\\users\\patron\\anaconda3\\envs\\derinogrenmedersi\\lib\\site-packages (from notebook>=6.0->RISE) (0.2.0)\n",
      "Requirement already satisfied: python-dateutil>=2.1 in c:\\users\\patron\\anaconda3\\envs\\derinogrenmedersi\\lib\\site-packages (from jupyter-client>=5.3.4->notebook>=6.0->RISE) (2.8.1)\n",
      "Requirement already satisfied: pywin32>=1.0 in c:\\users\\patron\\anaconda3\\envs\\derinogrenmedersi\\lib\\site-packages (from jupyter-core>=4.6.1->notebook>=6.0->RISE) (227)\n",
      "Requirement already satisfied: six>=1.5 in c:\\users\\patron\\anaconda3\\envs\\derinogrenmedersi\\lib\\site-packages (from python-dateutil>=2.1->jupyter-client>=5.3.4->notebook>=6.0->RISE) (1.15.0)\n",
      "Requirement already satisfied: pywinpty>=0.5 in c:\\users\\patron\\anaconda3\\envs\\derinogrenmedersi\\lib\\site-packages (from terminado>=0.8.3->notebook>=6.0->RISE) (0.5.7)\n",
      "Requirement already satisfied: cffi>=1.0.0 in c:\\users\\patron\\anaconda3\\envs\\derinogrenmedersi\\lib\\site-packages (from argon2-cffi->notebook>=6.0->RISE) (1.14.5)\n",
      "Requirement already satisfied: pycparser in c:\\users\\patron\\anaconda3\\envs\\derinogrenmedersi\\lib\\site-packages (from cffi>=1.0.0->argon2-cffi->notebook>=6.0->RISE) (2.20)\n",
      "Requirement already satisfied: ipython>=5.0.0 in c:\\users\\patron\\anaconda3\\envs\\derinogrenmedersi\\lib\\site-packages (from ipykernel->notebook>=6.0->RISE) (7.20.0)\n",
      "Requirement already satisfied: decorator in c:\\users\\patron\\anaconda3\\envs\\derinogrenmedersi\\lib\\site-packages (from ipython>=5.0.0->ipykernel->notebook>=6.0->RISE) (4.4.2)\n",
      "Requirement already satisfied: colorama in c:\\users\\patron\\anaconda3\\envs\\derinogrenmedersi\\lib\\site-packages (from ipython>=5.0.0->ipykernel->notebook>=6.0->RISE) (0.4.4)\n",
      "Requirement already satisfied: jedi>=0.16 in c:\\users\\patron\\anaconda3\\envs\\derinogrenmedersi\\lib\\site-packages (from ipython>=5.0.0->ipykernel->notebook>=6.0->RISE) (0.17.0)\n",
      "Requirement already satisfied: pickleshare in c:\\users\\patron\\anaconda3\\envs\\derinogrenmedersi\\lib\\site-packages (from ipython>=5.0.0->ipykernel->notebook>=6.0->RISE) (0.7.5)\n",
      "Requirement already satisfied: setuptools>=18.5 in c:\\users\\patron\\anaconda3\\envs\\derinogrenmedersi\\lib\\site-packages (from ipython>=5.0.0->ipykernel->notebook>=6.0->RISE) (52.0.0.post20210125)\n",
      "Requirement already satisfied: prompt-toolkit!=3.0.0,!=3.0.1,<3.1.0,>=2.0.0 in c:\\users\\patron\\anaconda3\\envs\\derinogrenmedersi\\lib\\site-packages (from ipython>=5.0.0->ipykernel->notebook>=6.0->RISE) (3.0.8)\n",
      "Requirement already satisfied: backcall in c:\\users\\patron\\anaconda3\\envs\\derinogrenmedersi\\lib\\site-packages (from ipython>=5.0.0->ipykernel->notebook>=6.0->RISE) (0.2.0)\n",
      "Requirement already satisfied: pygments in c:\\users\\patron\\anaconda3\\envs\\derinogrenmedersi\\lib\\site-packages (from ipython>=5.0.0->ipykernel->notebook>=6.0->RISE) (2.8.0)\n",
      "Requirement already satisfied: parso>=0.7.0 in c:\\users\\patron\\anaconda3\\envs\\derinogrenmedersi\\lib\\site-packages (from jedi>=0.16->ipython>=5.0.0->ipykernel->notebook>=6.0->RISE) (0.8.1)\n",
      "Requirement already satisfied: wcwidth in c:\\users\\patron\\anaconda3\\envs\\derinogrenmedersi\\lib\\site-packages (from prompt-toolkit!=3.0.0,!=3.0.1,<3.1.0,>=2.0.0->ipython>=5.0.0->ipykernel->notebook>=6.0->RISE) (0.2.5)\n",
      "Requirement already satisfied: MarkupSafe>=0.23 in c:\\users\\patron\\anaconda3\\envs\\derinogrenmedersi\\lib\\site-packages (from jinja2->notebook>=6.0->RISE) (1.1.1)\n",
      "Requirement already satisfied: jupyterlab-pygments in c:\\users\\patron\\anaconda3\\envs\\derinogrenmedersi\\lib\\site-packages (from nbconvert->notebook>=6.0->RISE) (0.1.2)\n",
      "Requirement already satisfied: defusedxml in c:\\users\\patron\\anaconda3\\envs\\derinogrenmedersi\\lib\\site-packages (from nbconvert->notebook>=6.0->RISE) (0.6.0)\n",
      "Requirement already satisfied: bleach in c:\\users\\patron\\anaconda3\\envs\\derinogrenmedersi\\lib\\site-packages (from nbconvert->notebook>=6.0->RISE) (3.3.0)\n",
      "Requirement already satisfied: entrypoints>=0.2.2 in c:\\users\\patron\\anaconda3\\envs\\derinogrenmedersi\\lib\\site-packages (from nbconvert->notebook>=6.0->RISE) (0.3)\n",
      "Requirement already satisfied: nbclient<0.6.0,>=0.5.0 in c:\\users\\patron\\anaconda3\\envs\\derinogrenmedersi\\lib\\site-packages (from nbconvert->notebook>=6.0->RISE) (0.5.2)\n",
      "Requirement already satisfied: mistune<2,>=0.8.1 in c:\\users\\patron\\anaconda3\\envs\\derinogrenmedersi\\lib\\site-packages (from nbconvert->notebook>=6.0->RISE) (0.8.4)\n",
      "Requirement already satisfied: pandocfilters>=1.4.1 in c:\\users\\patron\\anaconda3\\envs\\derinogrenmedersi\\lib\\site-packages (from nbconvert->notebook>=6.0->RISE) (1.4.3)\n",
      "Requirement already satisfied: testpath in c:\\users\\patron\\anaconda3\\envs\\derinogrenmedersi\\lib\\site-packages (from nbconvert->notebook>=6.0->RISE) (0.4.4)\n",
      "Requirement already satisfied: async-generator in c:\\users\\patron\\anaconda3\\envs\\derinogrenmedersi\\lib\\site-packages (from nbclient<0.6.0,>=0.5.0->nbconvert->notebook>=6.0->RISE) (1.10)\n",
      "Requirement already satisfied: nest-asyncio in c:\\users\\patron\\anaconda3\\envs\\derinogrenmedersi\\lib\\site-packages (from nbclient<0.6.0,>=0.5.0->nbconvert->notebook>=6.0->RISE) (1.5.1)\n",
      "Requirement already satisfied: jsonschema!=2.5.0,>=2.4 in c:\\users\\patron\\anaconda3\\envs\\derinogrenmedersi\\lib\\site-packages (from nbformat->notebook>=6.0->RISE) (3.2.0)\n",
      "Requirement already satisfied: pyrsistent>=0.14.0 in c:\\users\\patron\\anaconda3\\envs\\derinogrenmedersi\\lib\\site-packages (from jsonschema!=2.5.0,>=2.4->nbformat->notebook>=6.0->RISE) (0.17.3)\n",
      "Requirement already satisfied: attrs>=17.4.0 in c:\\users\\patron\\anaconda3\\envs\\derinogrenmedersi\\lib\\site-packages (from jsonschema!=2.5.0,>=2.4->nbformat->notebook>=6.0->RISE) (20.3.0)\n",
      "Requirement already satisfied: importlib-metadata in c:\\users\\patron\\anaconda3\\envs\\derinogrenmedersi\\lib\\site-packages (from jsonschema!=2.5.0,>=2.4->nbformat->notebook>=6.0->RISE) (2.0.0)\n",
      "Requirement already satisfied: webencodings in c:\\users\\patron\\anaconda3\\envs\\derinogrenmedersi\\lib\\site-packages (from bleach->nbconvert->notebook>=6.0->RISE) (0.5.1)\n",
      "Requirement already satisfied: packaging in c:\\users\\patron\\anaconda3\\envs\\derinogrenmedersi\\lib\\site-packages (from bleach->nbconvert->notebook>=6.0->RISE) (20.9)\n",
      "Requirement already satisfied: zipp>=0.5 in c:\\users\\patron\\anaconda3\\envs\\derinogrenmedersi\\lib\\site-packages (from importlib-metadata->jsonschema!=2.5.0,>=2.4->nbformat->notebook>=6.0->RISE) (3.4.0)\n",
      "Requirement already satisfied: pyparsing>=2.0.2 in c:\\users\\patron\\anaconda3\\envs\\derinogrenmedersi\\lib\\site-packages (from packaging->bleach->nbconvert->notebook>=6.0->RISE) (2.4.7)\n",
      "Installing collected packages: RISE\n",
      "Successfully installed RISE-5.7.1\n"
     ]
    }
   ],
   "source": [
    "! pip install RISE"
   ]
  },
  {
   "cell_type": "markdown",
   "metadata": {
    "slideshow": {
     "slide_type": "slide"
    }
   },
   "source": [
    "# Komut Satırını Açmadan Kütüphane İndirme İşlemleri\n",
    "* **`pip` komutu ile kütüphanenize python kütüphanesi yükleyebilirsiniz.**\n",
    "> Örneğin Python'da en çok kullanılan \"Pandas\" kütüphanesini indirme komutu:`pip install pandas`\n",
    "\n",
    "**Bu kodun alterantifleri de var onlar ise:** \n",
    "* `conda instal <paket_ismi>`\n",
    "* `python -m pip install <paket_ismi>`\n",
    "* `pip3 install <paket_ismi>`"
   ]
  },
  {
   "cell_type": "markdown",
   "metadata": {
    "slideshow": {
     "slide_type": "slide"
    }
   },
   "source": [
    "# Sistem Komut Satırı ve Python Komut Satırı\n",
    "* **Python da işletim sisteminize göre yazacağınız komutun başına `!` işareti koyarak komutunuzu yazarsanız, komutunuzu komut satırında çalıştırır. Örneğin;**\n",
    "> `!cd Desktop/Programlama`"
   ]
  },
  {
   "cell_type": "markdown",
   "metadata": {
    "slideshow": {
     "slide_type": "slide"
    }
   },
   "source": [
    "* **Paketleri Yükseltme İşlemi**\n",
    "> `pip install --upgrade <paket_ismi>`\n",
    "\n",
    "* **Kullanıcı İçin Yükleme İşlemi**\n",
    "Mevcut kullanıcıya izole edilmiş paketleri kurmak için `--user` kullanılır.\n",
    "> `pip install --user <paket_ismi>`\n",
    "\n",
    "* **Paketi İstediğimiz Versiyonda Yükleme İşlemi**\n",
    "> `pip install <paket_ismi>==<versiyon>` örneğin: `pip install padas==2.1.0`"
   ]
  },
  {
   "cell_type": "markdown",
   "metadata": {
    "slideshow": {
     "slide_type": "slide"
    }
   },
   "source": [
    "* **Yüklü Olan Paketleri Kaldırma İşlemi**\n",
    "> `pip uninstall <paket_ismi>`\n",
    "\n",
    "* **Daha fazla işlem yapmak için link:**\n",
    "> https://packaging.python.org/tutorials/installing-packages/"
   ]
  },
  {
   "attachments": {
    "image.png": {
     "image/png": "[encoded data removed]"
    }
   },
   "cell_type": "markdown",
   "metadata": {
    "slideshow": {
     "slide_type": "slide"
    }
   },
   "source": [
    "## Komut satırı ile kütüphane indirme işlemi\n",
    "* **Başlat menüsüne tıklayıp \"anaconda prompt\" yazarak komut satırını açıyoruz.**\n",
    "![image.png](attachment:image.png)"
   ]
  },
  {
   "cell_type": "markdown",
   "metadata": {
    "slideshow": {
     "slide_type": "slide"
    }
   },
   "source": [
    "## Yardım Almak\n",
    "**Jupyter’in çevrimiçi yardımını hücre sihirleriyle de kullanabilirsiniz. Sihirli kelimeyi yazıp Shift-Tab bastığınızda bir yardım balonu çıkar.**"
   ]
  },
  {
   "cell_type": "code",
   "execution_count": null,
   "metadata": {},
   "outputs": [],
   "source": [
    "%magic   # Jupyter ekranında ayrı bir alt pencere açar."
   ]
  },
  {
   "cell_type": "code",
   "execution_count": null,
   "metadata": {},
   "outputs": [],
   "source": [
    "# `%ls` ile dizin altındaki dosyaları görelim.\n",
    "%ls"
   ]
  },
  {
   "cell_type": "code",
   "execution_count": null,
   "metadata": {},
   "outputs": [],
   "source": [
    "%lsmagic"
   ]
  },
  {
   "cell_type": "markdown",
   "metadata": {},
   "source": [
    "Sihirli ifadelerin kullanımının özeti ve her bir komutun kısa açıklaması için `%quickref` komutunu kullanabilirsiniz."
   ]
  },
  {
   "cell_type": "code",
   "execution_count": null,
   "metadata": {},
   "outputs": [],
   "source": [
    "%quickref  # Jupyter ekranında ayrı bir alt pencere açar."
   ]
  },
  {
   "cell_type": "markdown",
   "metadata": {
    "slideshow": {
     "slide_type": "slide"
    }
   },
   "source": [
    "## %time, %timeit: Süre ölçme\n",
    "**Bir komutun işletilmesinin ne kadar zaman aldığını ölçmek için `%time` ve `%timeit` sihirlerini kullanabiliriz. Bunlar standart kütüphanedeki `time` ve `timeit` modüllerini kullanır.**"
   ]
  },
  {
   "cell_type": "code",
   "execution_count": null,
   "metadata": {},
   "outputs": [],
   "source": [
    "%time sum(range(1000))"
   ]
  },
  {
   "cell_type": "markdown",
   "metadata": {
    "slideshow": {
     "slide_type": "slide"
    }
   },
   "source": [
    "## Dizin işlemleri\n",
    "**Yeni bir dizin oluşturup ve o dizine geçelim.**"
   ]
  },
  {
   "cell_type": "code",
   "execution_count": null,
   "metadata": {},
   "outputs": [],
   "source": [
    "!mkdir deneme\n",
    "%cd deneme"
   ]
  },
  {
   "cell_type": "code",
   "execution_count": null,
   "metadata": {},
   "outputs": [],
   "source": [
    "# Oluşturduğumuz dosyayı silme işlemi\n",
    "\n",
    "%cd ..  # geri gelme komutu\n",
    "!rm -r deneme/"
   ]
  },
  {
   "cell_type": "code",
   "execution_count": null,
   "metadata": {},
   "outputs": [],
   "source": [
    "# \"pwd\" komutu\n",
    "!pwd"
   ]
  },
  {
   "cell_type": "markdown",
   "metadata": {},
   "source": [
    "## `%%writefile`: Bir metin dosyası oluşturmak\n",
    "**Diyelim elle yazacağınız kısa bir metni bir dosyaya kaydetmek istiyorsunuz. Bunun için ayrı bir pencerede bir editör açabilirsiniz, veya Python’un dosya açma komutlarını kullanabilirsiniz. %%writefile hücre sihri ise zahmetsiz kestirme bir yol sağlar.**"
   ]
  },
  {
   "cell_type": "code",
   "execution_count": 12,
   "metadata": {},
   "outputs": [
    {
     "name": "stderr",
     "output_type": "stream",
     "text": [
      "ERROR: Invalid requirement: '%writefile'\n"
     ]
    }
   ],
   "source": [
    "! pip install %writefile"
   ]
  },
  {
   "cell_type": "code",
   "execution_count": 20,
   "metadata": {},
   "outputs": [
    {
     "name": "stderr",
     "output_type": "stream",
     "text": [
      "UsageError: Line magic function `%%writefile` not found.\n"
     ]
    }
   ],
   "source": [
    "# deneme isimli bir dosyaya iki isim yazalım\n",
    "\n",
    "%%writefile -a deneme\n",
    "Süleyman\n",
    "UZUN"
   ]
  },
  {
   "cell_type": "markdown",
   "metadata": {},
   "source": [
    "**%cat ile dosyanın içeriğini ekrana dökerek istediğimizi yaptığını teyit edebiliriz.**"
   ]
  },
  {
   "cell_type": "code",
   "execution_count": 14,
   "metadata": {},
   "outputs": [
    {
     "name": "stderr",
     "output_type": "stream",
     "text": [
      "UsageError: Line magic function `%cat` not found.\n"
     ]
    }
   ],
   "source": [
    "%cat deneme"
   ]
  },
  {
   "cell_type": "markdown",
   "metadata": {},
   "source": [
    "## `%run`: Python programı çalıştırmak\n",
    "**Ayrı bir dosyada bulunan Python kodunu çalıştırmak için `%run` komutu kullanılır.\n",
    "Basit bir Python programı hazırlayıp merhaba.py ismiyle kaydedelim.**"
   ]
  },
  {
   "cell_type": "code",
   "execution_count": 15,
   "metadata": {},
   "outputs": [
    {
     "name": "stdout",
     "output_type": "stream",
     "text": [
      "Writing merhaba.py\n"
     ]
    }
   ],
   "source": [
    "%%writefile merhaba.py\n",
    "isim = input(\"Adınız?\")\n",
    "print(\"Merhaba\",isim)"
   ]
  },
  {
   "cell_type": "code",
   "execution_count": 16,
   "metadata": {},
   "outputs": [
    {
     "name": "stdout",
     "output_type": "stream",
     "text": [
      "Adınız?süleyman\n",
      "Merhaba süleyman\n"
     ]
    }
   ],
   "source": [
    "%run merhaba.py"
   ]
  },
  {
   "cell_type": "markdown",
   "metadata": {},
   "source": [
    "**Çağırılan program mevcut yorumlayıcı tarafından işlendiği için, o program içinde yaratılan değişken isimleri kalıcı olur.**"
   ]
  },
  {
   "cell_type": "code",
   "execution_count": 17,
   "metadata": {},
   "outputs": [
    {
     "data": {
      "text/plain": [
       "'süleyman'"
      ]
     },
     "execution_count": 17,
     "metadata": {},
     "output_type": "execute_result"
    }
   ],
   "source": [
    "isim"
   ]
  }
 ],
 "metadata": {
  "celltoolbar": "Slideshow",
  "kernelspec": {
   "display_name": "Python 3",
   "language": "python",
   "name": "python3"
  },
  "language_info": {
   "codemirror_mode": {
    "name": "ipython",
    "version": 3
   },
   "file_extension": ".py",
   "mimetype": "text/x-python",
   "name": "python",
   "nbconvert_exporter": "python",
   "pygments_lexer": "ipython3",
   "version": "3.7.9"
  },
  "toc": {
   "base_numbering": 1,
   "nav_menu": {
    "height": "175px",
    "width": "249px"
   },
   "number_sections": true,
   "sideBar": true,
   "skip_h1_title": false,
   "title_cell": "Table of Contents",
   "title_sidebar": "Contents",
   "toc_cell": false,
   "toc_position": {
    "height": "calc(100% - 180px)",
    "left": "10px",
    "top": "150px",
    "width": "165px"
   },
   "toc_section_display": true,
   "toc_window_display": false
  },
  "varInspector": {
   "cols": {
    "lenName": 16,
    "lenType": 16,
    "lenVar": 40
   },
   "kernels_config": {
    "python": {
     "delete_cmd_postfix": "",
     "delete_cmd_prefix": "del ",
     "library": "var_list.py",
     "varRefreshCmd": "print(var_dic_list())"
    },
    "r": {
     "delete_cmd_postfix": ") ",
     "delete_cmd_prefix": "rm(",
     "library": "var_list.r",
     "varRefreshCmd": "cat(var_dic_list()) "
    }
   },
   "types_to_exclude": [
    "module",
    "function",
    "builtin_function_or_method",
    "instance",
    "_Feature"
   ],
   "window_display": false
  }
 },
 "nbformat": 4,
 "nbformat_minor": 4
}
